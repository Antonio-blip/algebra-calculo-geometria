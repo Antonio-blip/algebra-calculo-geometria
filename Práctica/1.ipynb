{
 "cells": [
  {
   "cell_type": "code",
   "execution_count": 1,
   "id": "e3079ba1-c3ec-4750-bb1a-a4386fbac83f",
   "metadata": {},
   "outputs": [],
   "source": [
    "#Activity 1: Multiconjuntos"
   ]
  },
  {
   "cell_type": "code",
   "execution_count": 2,
   "id": "868ab5e4-da15-47ed-8ee0-57883ff43672",
   "metadata": {
    "tags": []
   },
   "outputs": [],
   "source": [
    "#1.1\n",
    "def multiset(lst):\n",
    "    #Generate multiset as dictionary\n",
    "    mltset = {}\n",
    "    for element in lst:\n",
    "        if element in mltset:\n",
    "            mltset[element] += 1\n",
    "        else:\n",
    "            mltset[element] = 1\n",
    "    \n",
    "    return mltset"
   ]
  },
  {
   "cell_type": "code",
   "execution_count": 3,
   "id": "910e5979-d011-4846-993e-5867f8c5f9e8",
   "metadata": {
    "tags": []
   },
   "outputs": [],
   "source": [
    "mc = multiset([1,1,1,3,3,1,4,5,1,5])"
   ]
  },
  {
   "cell_type": "code",
   "execution_count": 4,
   "id": "0f771855-a518-40a6-8773-23568d141020",
   "metadata": {
    "tags": []
   },
   "outputs": [],
   "source": [
    "#1.2\n",
    "#To obtain the cardinality of a multiset, we add up the frequencies of all its elements.\n",
    "def cardinality(multiset):\n",
    "    return sum(multiset.values())"
   ]
  },
  {
   "cell_type": "code",
   "execution_count": 5,
   "id": "ffa1b822-83de-4246-8cfb-d5de69957231",
   "metadata": {
    "tags": []
   },
   "outputs": [
    {
     "data": {
      "text/plain": [
       "10"
      ]
     },
     "execution_count": 5,
     "metadata": {},
     "output_type": "execute_result"
    }
   ],
   "source": [
    "cardinality(mc)"
   ]
  },
  {
   "cell_type": "code",
   "execution_count": 6,
   "id": "54e183f1-9a66-4809-93a4-20934cebae52",
   "metadata": {
    "tags": []
   },
   "outputs": [],
   "source": [
    "#1.3\n",
    "def add_element(multiset, element):\n",
    "    if element in multiset:\n",
    "        multiset[element] += 1\n",
    "    else:\n",
    "        multiset[element] = 1\n",
    "    return multiset"
   ]
  },
  {
   "cell_type": "code",
   "execution_count": 7,
   "id": "ea7b190b-54ea-443f-9c5a-93ed4c0f4f6e",
   "metadata": {
    "tags": []
   },
   "outputs": [
    {
     "data": {
      "text/plain": [
       "{1: 5, 3: 2, 4: 1, 5: 2, 9: 1}"
      ]
     },
     "execution_count": 7,
     "metadata": {},
     "output_type": "execute_result"
    }
   ],
   "source": [
    "mc = add_element(mc,9)\n",
    "mc"
   ]
  },
  {
   "cell_type": "code",
   "execution_count": 8,
   "id": "f770f15b-57d3-4993-8b3c-1701afb50886",
   "metadata": {
    "tags": []
   },
   "outputs": [],
   "source": [
    "#1.4\n",
    "def remove_element(multiset, element):\n",
    "    if element in multiset:\n",
    "        multiset[element] -= 1\n",
    "        if multiset[element] == 0:\n",
    "            del multiset[element]\n",
    "    return multiset"
   ]
  },
  {
   "cell_type": "code",
   "execution_count": 9,
   "id": "b7411773-9966-4e39-bf5d-35a2f37da96f",
   "metadata": {
    "tags": []
   },
   "outputs": [
    {
     "data": {
      "text/plain": [
       "{1: 5, 3: 2, 4: 1, 5: 2}"
      ]
     },
     "execution_count": 9,
     "metadata": {},
     "output_type": "execute_result"
    }
   ],
   "source": [
    "mc = remove_element(mc, 9)\n",
    "mc"
   ]
  },
  {
   "cell_type": "code",
   "execution_count": 10,
   "id": "d30b04f2-5e59-4872-9328-3fd57fbfca6a",
   "metadata": {
    "tags": []
   },
   "outputs": [],
   "source": [
    "#1.5.1\n",
    "def belong(multiset, element):\n",
    "    return element in multiset"
   ]
  },
  {
   "cell_type": "code",
   "execution_count": 11,
   "id": "e4ffe3be-0de0-46db-b9d6-91bd56d7542e",
   "metadata": {
    "tags": []
   },
   "outputs": [
    {
     "name": "stdout",
     "output_type": "stream",
     "text": [
      "True\n"
     ]
    }
   ],
   "source": [
    "print(belong(mc, 1))"
   ]
  },
  {
   "cell_type": "code",
   "execution_count": 12,
   "id": "aa6c60c1-f8ab-478e-b52c-1fe31d12e495",
   "metadata": {
    "tags": []
   },
   "outputs": [],
   "source": [
    "#1.5.2\n",
    "def subset(multiset1, multiset2):\n",
    "    for element in multiset1:\n",
    "        if multiset1[element] > multiset2.get(element, 0):\n",
    "            return False\n",
    "    return True"
   ]
  },
  {
   "cell_type": "code",
   "execution_count": 13,
   "id": "c6e12b62-b861-4333-ae25-0fe3392a6a11",
   "metadata": {
    "tags": []
   },
   "outputs": [
    {
     "name": "stdout",
     "output_type": "stream",
     "text": [
      "True\n"
     ]
    }
   ],
   "source": [
    "print(subset(multiset([1,3,4]), mc))"
   ]
  },
  {
   "cell_type": "code",
   "execution_count": 14,
   "id": "09a2f174-b779-4111-bdc9-d23117e5eebb",
   "metadata": {
    "tags": []
   },
   "outputs": [],
   "source": [
    "#1.5.3\n",
    "def equals(multiset1, multiset2):\n",
    "    return multiset1 == multiset2"
   ]
  },
  {
   "cell_type": "code",
   "execution_count": 15,
   "id": "3d83d06f-5f1f-4ea4-90d3-9092a15697c5",
   "metadata": {
    "tags": []
   },
   "outputs": [
    {
     "name": "stdout",
     "output_type": "stream",
     "text": [
      "False\n"
     ]
    }
   ],
   "source": [
    "print(equals(multiset([1,3,4]), mc))"
   ]
  },
  {
   "cell_type": "code",
   "execution_count": 16,
   "id": "63dcd99e-0c11-4ba4-ae24-53d08a7046d2",
   "metadata": {
    "tags": []
   },
   "outputs": [],
   "source": [
    "#1.6.1 with 2 arguments\n",
    "def union(multiset1, multiset2):\n",
    "#make a multiset1 copy to control its not being modified.\n",
    "    result = multiset1.copy()\n",
    "    #add a loop to operate on key-values pairs on the second multiset\n",
    "    for k, v in multiset2.items():\n",
    "        if k in result:\n",
    "             # If a key from multiset2 is already in result, add its value to the existing value.\n",
    "            result[k] += v\n",
    "        else:\n",
    "            # If the key is not already in result, add it to result with its corresponding value.\n",
    "            result[k] = v # Si no existe, la añadimos\n",
    "    return result"
   ]
  },
  {
   "cell_type": "code",
   "execution_count": 17,
   "id": "39dfd898-630d-4cbf-b35a-c83b41175172",
   "metadata": {
    "tags": []
   },
   "outputs": [
    {
     "name": "stdout",
     "output_type": "stream",
     "text": [
      "{1: 6, 3: 3, 4: 2, 55: 1, 5: 2}\n"
     ]
    }
   ],
   "source": [
    "print (union(multiset([1,3,4,55]), mc))"
   ]
  },
  {
   "cell_type": "code",
   "execution_count": 18,
   "id": "f6160600-ca44-45fe-9a0a-e912decba172",
   "metadata": {
    "tags": []
   },
   "outputs": [],
   "source": [
    "#1.6.1 with free number of arguments\n",
    "def unions(*multisets):\n",
    "    result = {}\n",
    "    for multiset in multisets:\n",
    "        for k, v in multiset.items():\n",
    "            if k in result:\n",
    "                result[k] += v\n",
    "            else:\n",
    "                result[k] = v\n",
    "    return result"
   ]
  },
  {
   "cell_type": "code",
   "execution_count": 19,
   "id": "12a1c0cb-a587-4d13-b1b7-0636805058ea",
   "metadata": {
    "tags": []
   },
   "outputs": [
    {
     "name": "stdout",
     "output_type": "stream",
     "text": [
      "{1: 16, 3: 7, 4: 4, 5: 6}\n"
     ]
    }
   ],
   "source": [
    "print(unions(multiset([1,3,4]), mc, mc, mc))"
   ]
  },
  {
   "cell_type": "code",
   "execution_count": 20,
   "id": "51b3e60e-0ac4-45d9-a4cf-5b9752902267",
   "metadata": {
    "tags": []
   },
   "outputs": [],
   "source": [
    "def intersection2(*multisets):\n",
    "    # Initialize the result to the first multiset\n",
    "    result = multisets[0].copy()\n",
    "    # Loop through the other multisets\n",
    "    for multiset in multisets[1:]:\n",
    "        # Create a new dictionary to hold the intersection\n",
    "        temp = {}\n",
    "        # Loop through the keys of the current multiset\n",
    "        for key in multiset:\n",
    "            # If the key is in the previous multiset, add it to the intersection\n",
    "            if key in result:\n",
    "                # Add the minimum value to the new dictionary\n",
    "                temp[key] = min(result[key], multiset[key])\n",
    "        # Replace the result with the intersection\n",
    "        result = temp\n",
    "    # Return the intersection\n",
    "    return result"
   ]
  },
  {
   "cell_type": "code",
   "execution_count": 21,
   "id": "33001425-38d5-47dc-b545-0081ec32ee9f",
   "metadata": {
    "tags": []
   },
   "outputs": [
    {
     "name": "stdout",
     "output_type": "stream",
     "text": [
      "{88: 1}\n"
     ]
    }
   ],
   "source": [
    "print(intersection2(multiset([1,3,4,88]), multiset([7,88])))"
   ]
  },
  {
   "cell_type": "code",
   "execution_count": 22,
   "id": "f9917f0b-14f7-4d0e-8d48-f713263c5d01",
   "metadata": {
    "tags": []
   },
   "outputs": [],
   "source": [
    "\n",
    "def difference(main_multiset, *other_multisets):\n",
    "    # Create a new dictionary to hold the result\n",
    "    result = main_multiset.copy()\n",
    "    # Loop through each multiset\n",
    "    for multiset in other_multisets:\n",
    "        # Loop through each key-value pair in the multiset where .items return the element counts\n",
    "        for k, v in multiset.items():\n",
    "            # If the key is already in the result, subtract the value from the result\n",
    "            if k in result:\n",
    "                result[k] -= v\n",
    "            # If the key is not in the result, add it with its negative value\n",
    "            else:\n",
    "                result[k] = -v\n",
    "    # Remove any keys if its value is 0 or less\n",
    "    result = {k: v for k, v in result.items() if v > 0}\n",
    "    return result\n",
    "\n",
    "# Subtract all the other multisets from the first multiset. \n",
    "# Therefore, when there are no more values of that multiset left in the first multiset, \n",
    "# it does not appear in the result. Values that are not present in the first multiset are ignored.\"\n",
    "# Anyway, exercises in 1.6 only requires to be able to perform the calculation for two multisets.\n",
    "\n",
    "# If you wanted to subtract the second multiset from the first one, keep the values from the second multiset \n",
    "# that are not in the first one, and then subtract a third multiset from this result, you could use a code similar to this one:\n",
    "#take into account that if you have a multiset element present in the second multiset but not in the third one it will appear.\n",
    "\n",
    "def difference2(*multisets):\n",
    "    #  Create a new dictionary to hold the result\n",
    "    result = {}\n",
    "    # Loop through each multiset\n",
    "    for multiset in multisets:\n",
    "        # Loop through each key-value pair in the multiset where .items return the element counts\n",
    "        for k, v in multiset.items():\n",
    "            # If the key is already in the result, subtract the value from the result\n",
    "            if k in result:\n",
    "                result[k] -= v\n",
    "            # If the key is not in the result, add it with its value\n",
    "            else:\n",
    "                result[k] = v\n",
    "    # Remove any keys if its value is 0 or less\n",
    "    result = {k: v for k, v in result.items() if v > 0}\n",
    "    \n",
    "    # Loop through each multiset in reverse order\n",
    "    for multiset in reversed(multisets):\n",
    "        # Loop through each key-value pair in the multiset\n",
    "        for k, v in multiset.items():\n",
    "            # If the key is not in any of the previous multisets, remove it from the result\n",
    "            if all(k not in prev_multiset for prev_multiset in multisets[:-1]):\n",
    "                del result[k]\n",
    "                \n",
    "    return result"
   ]
  },
  {
   "cell_type": "code",
   "execution_count": 23,
   "id": "f2713219-17fa-4597-bb57-0fea72f17673",
   "metadata": {
    "tags": []
   },
   "outputs": [
    {
     "name": "stdout",
     "output_type": "stream",
     "text": [
      "{1: 4, 3: 1, 5: 2}\n"
     ]
    }
   ],
   "source": [
    "print(difference(mc, multiset([1,2,3,4])))"
   ]
  }
 ],
 "metadata": {
  "kernelspec": {
   "display_name": "Python 3 (ipykernel)",
   "language": "python",
   "name": "python3"
  },
  "language_info": {
   "codemirror_mode": {
    "name": "ipython",
    "version": 3
   },
   "file_extension": ".py",
   "mimetype": "text/x-python",
   "name": "python",
   "nbconvert_exporter": "python",
   "pygments_lexer": "ipython3",
   "version": "3.10.7"
  }
 },
 "nbformat": 4,
 "nbformat_minor": 5
}
